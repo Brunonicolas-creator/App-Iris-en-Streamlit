{
  "cells": [
    {
      "cell_type": "markdown",
      "metadata": {
        "id": "view-in-github",
        "colab_type": "text"
      },
      "source": [
        "<a href=\"https://colab.research.google.com/github/Brunonicolas-creator/App-Iris-en-Streamlit/blob/main/Streamlit_App_Iris.ipynb\" target=\"_parent\"><img src=\"https://colab.research.google.com/assets/colab-badge.svg\" alt=\"Open In Colab\"/></a>"
      ]
    },
    {
      "cell_type": "markdown",
      "source": [
        "**Instalacion Streamlit**"
      ],
      "metadata": {
        "id": "9Tl-bv6jC-Tl"
      }
    },
    {
      "cell_type": "code",
      "execution_count": null,
      "metadata": {
        "id": "U1F81cz-dVN3"
      },
      "outputs": [],
      "source": [
        "!pip install streamlit\n"
      ]
    },
    {
      "cell_type": "markdown",
      "source": [
        "**Creamos la App con todos los parametros**"
      ],
      "metadata": {
        "id": "oC-xIXmgDFXV"
      }
    },
    {
      "cell_type": "code",
      "source": [
        "%%writefile app.py\n",
        "import streamlit as st\n",
        "import pandas as pd\n",
        "from sklearn import datasets\n",
        "from sklearn.ensemble import RandomForestClassifier\n",
        "st.write(\"\"\"\n",
        "# Prediccion de Iris App\n",
        "Esta App ayuda a predecir **Iris Flower**!\n",
        "\"\"\")\n",
        "\n",
        "st.sidebar.header('Parametros de entrada de usuario')\n",
        "\n",
        "def user_input_features():\n",
        "    sepal_length = st.sidebar.slider('Sepal length', 4.3, 7.9, 5.4)\n",
        "    sepal_width = st.sidebar.slider('Sepal width', 2.0, 4.4, 3.4)\n",
        "    petal_length = st.sidebar.slider('Petal length', 1.0, 6.9, 1.3)\n",
        "    petal_width = st.sidebar.slider('Petal width', 0.1, 2.5, 0.2)\n",
        "    data = {'sepal_length': sepal_length,\n",
        "            'sepal_width': sepal_width,\n",
        "            'petal_length': petal_length,\n",
        "            'petal_width': petal_width}\n",
        "    features = pd.DataFrame(data, index=[0])\n",
        "    return features\n",
        "\n",
        "df = user_input_features()\n",
        "\n",
        "st.subheader('Parametros de entrada de usuario')\n",
        "st.write(df)\n",
        "\n",
        "iris = datasets.load_iris()\n",
        "X = iris.data\n",
        "Y = iris.target\n",
        "\n",
        "clf = RandomForestClassifier()\n",
        "clf.fit(X, Y)\n",
        "\n",
        "prediction = clf.predict(df)\n",
        "prediction_proba = clf.predict_proba(df)\n",
        "\n",
        "st.subheader('Tipos de Treboles')\n",
        "st.write(iris.target_names)\n",
        "\n",
        "st.subheader('Prediccion')\n",
        "st.write(iris.target_names[prediction])\n",
        "#st.write(prediction)\n",
        "\n",
        "st.subheader('Probabilidad de Prediccion')\n",
        "st.write(prediction_proba)"
      ],
      "metadata": {
        "colab": {
          "base_uri": "https://localhost:8080/"
        },
        "id": "qGIYCq0h9I99",
        "outputId": "b74864a9-6a1d-4343-b7bf-b7bf23d0c1e2"
      },
      "execution_count": 92,
      "outputs": [
        {
          "output_type": "stream",
          "name": "stdout",
          "text": [
            "Overwriting app.py\n"
          ]
        }
      ]
    },
    {
      "cell_type": "markdown",
      "source": [
        "**Corremos la App y Abrimos en navegador**"
      ],
      "metadata": {
        "id": "QbEdHRjXDQUi"
      }
    },
    {
      "cell_type": "code",
      "execution_count": null,
      "metadata": {
        "id": "4LJkinVmevyY",
        "colab": {
          "base_uri": "https://localhost:8080/"
        },
        "outputId": "d60f77c5-b2e5-45e6-e4a6-331038684c9c"
      },
      "outputs": [
        {
          "output_type": "stream",
          "name": "stdout",
          "text": [
            "2022-05-31 21:33:53.651 INFO    numexpr.utils: NumExpr defaulting to 2 threads.\n",
            "\u001b[0m\n",
            "\u001b[34m\u001b[1m  You can now view your Streamlit app in your browser.\u001b[0m\n",
            "\u001b[0m\n",
            "\u001b[34m  Network URL: \u001b[0m\u001b[1mhttp://172.28.0.2:8501\u001b[0m\n",
            "\u001b[34m  External URL: \u001b[0m\u001b[1mhttp://35.229.41.204:8501\u001b[0m\n",
            "\u001b[0m\n",
            "\u001b[K\u001b[?25hnpx: installed 22 in 2.75s\n",
            "your url is: https://eight-crabs-cry-35-229-41-204.loca.lt\n",
            "/usr/local/lib/python3.7/dist-packages/sklearn/base.py:444: UserWarning: X has feature names, but RandomForestClassifier was fitted without feature names\n",
            "  f\"X has feature names, but {self.__class__.__name__} was fitted without\"\n",
            "/usr/local/lib/python3.7/dist-packages/sklearn/base.py:444: UserWarning: X has feature names, but RandomForestClassifier was fitted without feature names\n",
            "  f\"X has feature names, but {self.__class__.__name__} was fitted without\"\n"
          ]
        }
      ],
      "source": [
        "!streamlit run app.py & npx localtunnel --port 8501"
      ]
    }
  ],
  "metadata": {
    "colab": {
      "name": "Streamlit App Iris.ipynb",
      "provenance": [],
      "authorship_tag": "ABX9TyOwD1QO73M+gwxuQBptubu+",
      "include_colab_link": true
    },
    "kernelspec": {
      "display_name": "Python 3",
      "name": "python3"
    },
    "language_info": {
      "name": "python"
    }
  },
  "nbformat": 4,
  "nbformat_minor": 0
}